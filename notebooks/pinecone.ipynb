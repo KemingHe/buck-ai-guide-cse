{
 "cells": [
  {
   "cell_type": "code",
   "execution_count": null,
   "id": "5d418477-05a1-4910-97e2-70102c6eda05",
   "metadata": {},
   "outputs": [],
   "source": [
    " from data import faculty_data"
   ]
  },
  {
   "cell_type": "code",
   "execution_count": null,
   "id": "72260074-be11-459b-8a4b-1ba3302f930e",
   "metadata": {},
   "outputs": [],
   "source": [
    "print (f'You have {len(faculty_data)} document(s)')"
   ]
  },
  {
   "cell_type": "code",
   "execution_count": null,
   "id": "1b5f6547-c7e1-43de-bc7e-df9a49af8f46",
   "metadata": {},
   "outputs": [],
   "source": [
    "print (f'You have {len(faculty_data[0])} character(s) in document 1')"
   ]
  },
  {
   "cell_type": "code",
   "execution_count": null,
   "id": "aeefc734-794b-4456-a9e9-a7566a47a4be",
   "metadata": {},
   "outputs": [],
   "source": [
    "from langchain_pinecone import PineconeVectorStore\n",
    "from langchain_openai import OpenAIEmbeddings\n",
    "from pinecone import Pinecone, ServerlessSpec"
   ]
  },
  {
   "cell_type": "code",
   "execution_count": null,
   "id": "3cb0ea0c-f6b2-4d9c-8a15-4712e37fdb47",
   "metadata": {},
   "outputs": [],
   "source": [
    "embeddings = OpenAIEmbeddings(openai_api_key=\"\")"
   ]
  },
  {
   "cell_type": "code",
   "execution_count": null,
   "id": "2577dab6-6cf0-4c26-8934-3606f96086b4",
   "metadata": {},
   "outputs": [],
   "source": [
    "pc = Pinecone(api_key\"\")"
   ]
  },
  {
   "cell_type": "code",
   "execution_count": null,
   "id": "ddca8f40-2477-4ee3-9258-96b23711c2dc",
   "metadata": {},
   "outputs": [],
   "source": [
    "index_name = \"hackohio2024\"\n",
    "\n",
    "index = pc.Index(index_name)"
   ]
  },
  {
   "cell_type": "code",
   "execution_count": null,
   "id": "89cbc71e-c892-48a1-9705-619582884b58",
   "metadata": {},
   "outputs": [],
   "source": [
    "vector_store = PineconeVectorStore(index=index, embedding=embeddings)"
   ]
  },
  {
   "cell_type": "code",
   "execution_count": null,
   "id": "0bc0f3b4-b8b4-467c-8423-3bc193c3ffcf",
   "metadata": {},
   "outputs": [],
   "source": [
    "from uuid import uuid4\n",
    "\n",
    "from langchain_core.documents import Document\n",
    "\n",
    "documents = []\n",
    "for datapoint in faculty_data:\n",
    "    documents.append(\n",
    "        Document(\n",
    "            page_content=datapoint,\n",
    "            metadata={},\n",
    "        )\n",
    "    )\n",
    "    \n",
    "uuids = [str(uuid4()) for _ in range(len(documents))]\n",
    "\n",
    "vector_store.add_documents(documents=documents, ids=uuids)"
   ]
  },
  {
   "cell_type": "code",
   "execution_count": null,
   "id": "b5702a4f-059a-4938-bc7d-d0752254f7bb",
   "metadata": {},
   "outputs": [],
   "source": [
    "results = vector_store.similarity_search(\n",
    "    \"Kali\",\n",
    "    k=1,\n",
    "    filter={},\n",
    ")\n",
    "for res in results:\n",
    "    print(f\"* {res.page_content} [{res.metadata}]\")"
   ]
  },
  {
   "cell_type": "code",
   "execution_count": null,
   "id": "71f3c89b-5eb6-447f-901f-fd8e1cb860ea",
   "metadata": {},
   "outputs": [],
   "source": [
    "\n"
   ]
  },
  {
   "cell_type": "code",
   "execution_count": null,
   "id": "2ad657f3-7407-444c-bc82-698423c071fd",
   "metadata": {},
   "outputs": [],
   "source": []
  }
 ],
 "metadata": {
  "kernelspec": {
   "display_name": "Python 3 (ipykernel)",
   "language": "python",
   "name": "python3"
  },
  "language_info": {
   "codemirror_mode": {
    "name": "ipython",
    "version": 3
   },
   "file_extension": ".py",
   "mimetype": "text/x-python",
   "name": "python",
   "nbconvert_exporter": "python",
   "pygments_lexer": "ipython3",
   "version": "3.12.7"
  }
 },
 "nbformat": 4,
 "nbformat_minor": 5
}
